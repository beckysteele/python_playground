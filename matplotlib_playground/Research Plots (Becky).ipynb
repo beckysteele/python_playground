{
 "cells": [
  {
   "cell_type": "code",
   "execution_count": 53,
   "metadata": {},
   "outputs": [],
   "source": [
    "import pandas as pd\n",
    "import numpy as np\n",
    "import matplotlib.pyplot as plt\n",
    "from pylab import *\n",
    "from astropy.io import fits"
   ]
  },
  {
   "cell_type": "markdown",
   "metadata": {},
   "source": [
    "# Retrieve catalog from Holwerda et al. (2015)"
   ]
  },
  {
   "cell_type": "code",
   "execution_count": 54,
   "metadata": {},
   "outputs": [],
   "source": [
    "data = pd.read_csv(\"holwerda15.csv\")\n",
    "filtered_pairs = data[data[\"spec_type\"] == \"PG+ELG\"]"
   ]
  },
  {
   "cell_type": "markdown",
   "metadata": {},
   "source": [
    "# Histogram of redshifts "
   ]
  },
  {
   "cell_type": "markdown",
   "metadata": {},
   "source": [
    "Using this 4-class diverging color scheme that's colorblind safe, \n",
    "print friendly, and photocopy safe: http://colorbrewer2.org/#type=diverging&scheme=PuOr&n=4"
   ]
  },
  {
   "cell_type": "code",
   "execution_count": 55,
   "metadata": {},
   "outputs": [
    {
     "data": {
      "image/png": "[encoded data removed]",
      "text/plain": [
       "<matplotlib.figure.Figure at 0x117798048>"
      ]
     },
     "metadata": {},
     "output_type": "display_data"
    }
   ],
   "source": [
    "z1 = filtered_pairs['z1']\n",
    "z2 = filtered_pairs['z2']\n",
    "\n",
    "nbins = 30\n",
    "binwidth = 0.05\n",
    "\n",
    "plt.hist(z1, histtype='step', linewidth=3, color='#e66101', bins=np.arange(min(z1), max(z1) + binwidth, binwidth), label='Lensed')\n",
    "plt.hist(z2, histtype='step', linewidth=3, linestyle='-', color='#5e3c99', bins=np.arange(min(z2), max(z2) + binwidth, binwidth), label='Source')\n",
    "plt.legend(loc='upper right', numpoints=2)\n",
    "        \n",
    "plt.tick_params(axis='both', which='major', labelsize=15)\n",
    "plt.tick_params(axis='both', which='minor', labelsize=15)\n",
    "plt.ylabel('Galaxy-Galaxy Pairs', fontsize=20)\n",
    "plt.xlabel(r'Redshift (z)', fontsize=20)\n",
    "\n",
    "plt.show()"
   ]
  },
  {
   "cell_type": "markdown",
   "metadata": {},
   "source": [
    "(Specific star formation rate (sSFR) = SFR vs. M* goes here) (Cluver et al. (2014))"
   ]
  },
  {
   "cell_type": "markdown",
   "metadata": {},
   "source": [
    "(M* vs. Z goes here)"
   ]
  },
  {
   "cell_type": "markdown",
   "metadata": {},
   "source": [
    "(Einstein Radius vs. M* for each land/space telescope FOV goes here)"
   ]
  },
  {
   "cell_type": "markdown",
   "metadata": {},
   "source": [
    "(Source Redshift vs. H-Alpha Wavelength for each land/space telescope FOV goes here)"
   ]
  },
  {
   "cell_type": "code",
   "execution_count": null,
   "metadata": {},
   "outputs": [],
   "source": []
  },
  {
   "cell_type": "code",
   "execution_count": null,
   "metadata": {},
   "outputs": [],
   "source": []
  }
 ],
 "metadata": {
  "kernelspec": {
   "display_name": "Python 3",
   "language": "python",
   "name": "python3"
  },
  "language_info": {
   "codemirror_mode": {
    "name": "ipython",
    "version": 3
   },
   "file_extension": ".py",
   "mimetype": "text/x-python",
   "name": "python",
   "nbconvert_exporter": "python",
   "pygments_lexer": "ipython3",
   "version": "3.6.4"
  }
 },
 "nbformat": 4,
 "nbformat_minor": 2
}
